{
 "cells": [
  {
   "cell_type": "code",
   "execution_count": 395,
   "id": "196a22c9",
   "metadata": {},
   "outputs": [],
   "source": [
    "import os\n",
    "import warnings\n",
    "warnings.filterwarnings('ignore')\n",
    "from pyspark.sql import SparkSession\n",
    "from pyspark.sql.types import StructField, StructType, StringType, IntegerType, FloatType\n",
    "from pyspark.sql.functions import split, count, when, isnan, col, regexp_replace\n",
    "from pyspark.ml.regression import LinearRegression\n",
    "from pyspark.ml.feature import OneHotEncoder, StringIndexer\n",
    "from pyspark.ml.linalg import Vectors\n",
    "from pyspark.ml.feature import VectorAssembler\n",
    "from pyspark.sql import SparkSession\n",
    "from pyspark.sql.functions import col\n",
    "spark = SparkSession.builder.master(\"local[*]\").getOrCreate()"
   ]
  },
  {
   "cell_type": "code",
   "execution_count": 396,
   "id": "01097bbf",
   "metadata": {},
   "outputs": [
    {
     "name": "stdout",
     "output_type": "stream",
     "text": [
      "+--------------------+-----+----+\n",
      "|                 _c0|  _c1| _c2|\n",
      "+--------------------+-----+----+\n",
      "|            Provinsi|    %|NULL|\n",
      "|                ACEH|18.19|   3|\n",
      "|      SUMATERA UTARA| 4.36|   2|\n",
      "|      SUMATERA BARAT|  8.1|   2|\n",
      "|                RIAU| 3.77|   2|\n",
      "|               JAMBI| 5.21|   2|\n",
      "|    SUMATERA SELATAN| 3.03|   2|\n",
      "|            BENGKULU| 8.59|   2|\n",
      "|             LAMPUNG| 5.67|   2|\n",
      "|KEP. BANGKA BELITUNG|24.38|   3|\n",
      "|           KEP. RIAU| 10.6|   2|\n",
      "|         DKI JAKARTA|16.24|   3|\n",
      "|          JAWA BARAT| 5.39|   2|\n",
      "|         JAWA TENGAH| 8.11|   3|\n",
      "|       DI YOGYAKARTA| 7.21|   2|\n",
      "|          JAWA TIMUR|11.42|   3|\n",
      "|              BANTEN|10.65|   3|\n",
      "|                BALI|27.14|   2|\n",
      "| NUSA TENGGARA BARAT| 8.95|   2|\n",
      "| NUSA TENGGARA TIMUR| 5.52|   2|\n",
      "+--------------------+-----+----+\n",
      "only showing top 20 rows\n",
      "\n"
     ]
    }
   ],
   "source": [
    "commodity_df = spark.read.csv(\"Margin Perdagangan dan Pengangkutan (MPP) Komoditas Kedelai Menurut Provinsi, 2022.csv\",inferSchema=True)\n",
    "commodity_df.show()"
   ]
  },
  {
   "cell_type": "code",
   "execution_count": 397,
   "id": "9df6ded6",
   "metadata": {},
   "outputs": [
    {
     "name": "stdout",
     "output_type": "stream",
     "text": [
      "root\n",
      " |-- _c0: string (nullable = true)\n",
      " |-- _c1: string (nullable = true)\n",
      " |-- _c2: integer (nullable = true)\n",
      "\n"
     ]
    }
   ],
   "source": [
    "commodity_df.printSchema()"
   ]
  },
  {
   "cell_type": "code",
   "execution_count": 398,
   "id": "bb4e2e91",
   "metadata": {},
   "outputs": [],
   "source": [
    "max_value_row = commodity_df.select(\"_c0\", \"_c1\").orderBy(col(\"_c1\").desc()).first()"
   ]
  },
  {
   "cell_type": "code",
   "execution_count": 399,
   "id": "667430ef",
   "metadata": {},
   "outputs": [
    {
     "name": "stdout",
     "output_type": "stream",
     "text": [
      "Nilai tertinggi dalam kolom _c1: 9.69, Nilai di kolom _c0 yang sesuai: GORONTALO\n"
     ]
    }
   ],
   "source": [
    "if max_value_row:\n",
    "    max_value_c0 = max_value_row[\"_c0\"]\n",
    "    max_value_c1 = max_value_row[\"_c1\"]\n",
    "    print(f\"Nilai tertinggi dalam kolom _c1: {max_value_c1}, Nilai di kolom _c0 yang sesuai: {max_value_c0}\")\n",
    "else:\n",
    "    print(\"Data tidak ditemukan.\")"
   ]
  },
  {
   "cell_type": "code",
   "execution_count": 400,
   "id": "06f444c5",
   "metadata": {},
   "outputs": [],
   "source": [
    "filtered_df = commodity_df.filter(col(\"_c1\") > 8.00)"
   ]
  },
  {
   "cell_type": "code",
   "execution_count": 401,
   "id": "28bac5d2",
   "metadata": {},
   "outputs": [
    {
     "name": "stdout",
     "output_type": "stream",
     "text": [
      "+--------------------+-----+\n",
      "|_c0                 |_c1  |\n",
      "+--------------------+-----+\n",
      "|ACEH                |18.19|\n",
      "|SUMATERA BARAT      |8.1  |\n",
      "|BENGKULU            |8.59 |\n",
      "|KEP. BANGKA BELITUNG|24.38|\n",
      "|KEP. RIAU           |10.6 |\n",
      "|DKI JAKARTA         |16.24|\n",
      "|JAWA TENGAH         |8.11 |\n",
      "|JAWA TIMUR          |11.42|\n",
      "|BANTEN              |10.65|\n",
      "|BALI                |27.14|\n",
      "|NUSA TENGGARA BARAT |8.95 |\n",
      "|KALIMANTAN BARAT    |20.35|\n",
      "|KALIMANTAN UTARA    |26.67|\n",
      "|SULAWESI TENGAH     |36.47|\n",
      "|SULAWESI SELATAN    |15.9 |\n",
      "|SULAWESI TENGGARA   |17.2 |\n",
      "|GORONTALO           |9.69 |\n",
      "|SULAWESI BARAT      |16.28|\n",
      "|MALUKU              |25.65|\n",
      "|MALUKU UTARA        |10.81|\n",
      "+--------------------+-----+\n",
      "only showing top 20 rows\n",
      "\n"
     ]
    }
   ],
   "source": [
    "filtered_df.select(\"_c0\", \"_c1\").show(truncate=False)"
   ]
  },
  {
   "cell_type": "code",
   "execution_count": 402,
   "id": "b77f1411",
   "metadata": {},
   "outputs": [],
   "source": [
    "smallest_3_df = commodity_df.orderBy(col(\"_c1\")).limit(3)"
   ]
  },
  {
   "cell_type": "code",
   "execution_count": 403,
   "id": "e3a58938",
   "metadata": {},
   "outputs": [
    {
     "name": "stdout",
     "output_type": "stream",
     "text": [
      "+---------+-----+\n",
      "|_c0      |_c1  |\n",
      "+---------+-----+\n",
      "|Provinsi |%    |\n",
      "|KEP. RIAU|10.6 |\n",
      "|BANTEN   |10.65|\n",
      "+---------+-----+\n",
      "\n"
     ]
    }
   ],
   "source": [
    "smallest_3_df.select(\"_c0\", \"_c1\").show(truncate=False)"
   ]
  },
  {
   "cell_type": "code",
   "execution_count": 404,
   "id": "5b7ef29d",
   "metadata": {},
   "outputs": [],
   "source": [
    "highest_c2_row = commodity_df.orderBy(col(\"_c2\").desc()).limit(1).first()"
   ]
  },
  {
   "cell_type": "code",
   "execution_count": 405,
   "id": "423049f6",
   "metadata": {},
   "outputs": [
    {
     "name": "stdout",
     "output_type": "stream",
     "text": [
      "Nilai tertinggi dalam kolom _c2: 4, Nilai di kolom _c0 yang sesuai: KALIMANTAN BARAT\n"
     ]
    }
   ],
   "source": [
    "if highest_c2_row:\n",
    "    highest_c2_value = highest_c2_row[\"_c2\"]\n",
    "    corresponding_c0_value = highest_c2_row[\"_c0\"]\n",
    "    print(f\"Nilai tertinggi dalam kolom _c2: {highest_c2_value}, Nilai di kolom _c0 yang sesuai: {corresponding_c0_value}\")\n",
    "else:\n",
    "    print(\"Data tidak ditemukan.\")"
   ]
  },
  {
   "cell_type": "code",
   "execution_count": null,
   "id": "aaf4c386",
   "metadata": {},
   "outputs": [],
   "source": []
  }
 ],
 "metadata": {
  "kernelspec": {
   "display_name": "Python 3 (ipykernel)",
   "language": "python",
   "name": "python3"
  },
  "language_info": {
   "codemirror_mode": {
    "name": "ipython",
    "version": 3
   },
   "file_extension": ".py",
   "mimetype": "text/x-python",
   "name": "python",
   "nbconvert_exporter": "python",
   "pygments_lexer": "ipython3",
   "version": "3.11.5"
  }
 },
 "nbformat": 4,
 "nbformat_minor": 5
}
